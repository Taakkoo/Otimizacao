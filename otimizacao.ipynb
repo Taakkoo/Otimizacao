{
  "nbformat": 4,
  "nbformat_minor": 0,
  "metadata": {
    "colab": {
      "provenance": []
    },
    "kernelspec": {
      "name": "python3",
      "display_name": "Python 3"
    },
    "language_info": {
      "name": "python"
    }
  },
  "cells": [
    {
      "cell_type": "code",
      "execution_count": 53,
      "metadata": {
        "colab": {
          "base_uri": "https://localhost:8080/"
        },
        "id": "7cSF0nbeFo8w",
        "outputId": "2ecfc240-206e-463f-9479-90e7be2918cc"
      },
      "outputs": [
        {
          "output_type": "stream",
          "name": "stdout",
          "text": [
            "Requirement already satisfied: pyspark in /usr/local/lib/python3.11/dist-packages (3.5.5)\n",
            "Requirement already satisfied: py4j==0.10.9.7 in /usr/local/lib/python3.11/dist-packages (from pyspark) (0.10.9.7)\n"
          ]
        }
      ],
      "source": [
        "! pip install pyspark"
      ]
    },
    {
      "cell_type": "code",
      "source": [
        "import pyspark\n",
        "from pyspark.sql import SparkSession\n",
        "from pyspark.sql.functions import *"
      ],
      "metadata": {
        "id": "_c4e-ggpGdbo"
      },
      "execution_count": 54,
      "outputs": []
    },
    {
      "cell_type": "code",
      "source": [
        "spark = SparkSession.builder.getOrCreate()"
      ],
      "metadata": {
        "id": "8b0h9ACgGfn3"
      },
      "execution_count": 55,
      "outputs": []
    },
    {
      "cell_type": "code",
      "source": [
        "# Ler os arquivos em parquet\n",
        "df_video = spark.read.parquet(\"videos-preparados.snappy.parquet\")\n",
        "df_comments = spark.read.parquet(\"videos-comments-tratados.snappy.parquet\")\n",
        "\n",
        "df_video.show(5)\n",
        "df_comments.show(5)"
      ],
      "metadata": {
        "colab": {
          "base_uri": "https://localhost:8080/"
        },
        "id": "1Kh6_DOtG5j9",
        "outputId": "1e2f786b-854a-4406-8b5d-0b46b294a4ad"
      },
      "execution_count": 56,
      "outputs": [
        {
          "output_type": "stream",
          "name": "stdout",
          "text": [
            "+--------------------+-----------+------------+-------+------+--------+--------+-----------+----+-----+-------------+--------------------+--------------------+--------------------+\n",
            "|               Title|   Video ID|Published At|Keyword| Likes|Comments|   Views|Interaction|Year|Month|Keyword Index|        Features PCA|     Features Normal|            Features|\n",
            "+--------------------+-----------+------------+-------+------+--------+--------+-----------+----+-----+-------------+--------------------+--------------------+--------------------+\n",
            "|ASMR MUKBANG DOUB...|--ZI0dSbbNU|  2020-04-18|mukbang|378858|   18860|17975269|   18372987|2020|    4|         30.0|[0.6985786560867407]|[0.02303716158264...|[378858.0,1.79752...|\n",
            "|Deadly car bomb d...|--hxd1CrOqg|  2022-08-22|   news|  6379|    4853|  808787|     820019|2022|    8|         37.0|[0.8936407990235931]|[3.87946679100418...|[6379.0,808787.0,...|\n",
            "|How Biden&#39;s s...|--ixiTypG8g|  2022-08-24|   news|  1029|    2347|   97434|     100810|2022|    8|         37.0| [0.893639694263814]|[6.26308901995973...|[1029.0,97434.0,2...|\n",
            "|Celebrating My 40...|-64r1hcxtV4|  2022-05-30|mukbang| 45628|   17264| 5283664|    5346556|2022|    5|         30.0|[0.6958642903220559]|[0.00277454843584...|[45628.0,5283664....|\n",
            "|Physics Review - ...|-6IgkG5yZfo|  2017-01-02|physics| 10959|     525|  844015|     855499|2017|    1|          7.0|[0.11987693683949...|[6.66441317075327...|[10959.0,844015.0...|\n",
            "+--------------------+-----------+------------+-------+------+--------+--------+-----------+----+-----+-------------+--------------------+--------------------+--------------------+\n",
            "only showing top 5 rows\n",
            "\n",
            "+-----------+--------------------+------------+-------+-----+--------+------+-----------+----+--------------------+---------+-------------+\n",
            "|   Video ID|               Title|Published At|Keyword|Likes|Comments| Views|Interaction|Year|             Comment|Sentiment|Likes Comment|\n",
            "+-----------+--------------------+------------+-------+-----+--------+------+-----------+----+--------------------+---------+-------------+\n",
            "|wAZZ-UWGVHI|Apple Pay Is Kill...|  2022-08-23|   tech| 3407|     672|135612|     139691|2022|Let's not forget ...|        1|           95|\n",
            "|wAZZ-UWGVHI|Apple Pay Is Kill...|  2022-08-23|   tech| 3407|     672|135612|     139691|2022|Here in NZ 50% of...|        0|           19|\n",
            "|wAZZ-UWGVHI|Apple Pay Is Kill...|  2022-08-23|   tech| 3407|     672|135612|     139691|2022|I will forever ac...|        2|          161|\n",
            "|wAZZ-UWGVHI|Apple Pay Is Kill...|  2022-08-23|   tech| 3407|     672|135612|     139691|2022|Whenever I go to ...|        0|            8|\n",
            "|wAZZ-UWGVHI|Apple Pay Is Kill...|  2022-08-23|   tech| 3407|     672|135612|     139691|2022|Apple Pay is so c...|        2|           34|\n",
            "+-----------+--------------------+------------+-------+-----+--------+------+-----------+----+--------------------+---------+-------------+\n",
            "only showing top 5 rows\n",
            "\n"
          ]
        }
      ]
    },
    {
      "cell_type": "code",
      "source": [
        "# Criar tabelas temporárias\n",
        "df_video.createOrReplaceTempView(\"videos\")\n",
        "df_comments.createOrReplaceTempView(\"comentarios\")\n",
        "\n",
        "# Realizar join\n",
        "join_video_comments = df_video.join(df_comments, on = \"Video ID\")\n",
        "join_video_comments.show(5)"
      ],
      "metadata": {
        "colab": {
          "base_uri": "https://localhost:8080/"
        },
        "collapsed": true,
        "id": "hhy2J5x9G7tm",
        "outputId": "5b8821a9-239c-45c6-958d-9c6ef730bd59"
      },
      "execution_count": 57,
      "outputs": [
        {
          "output_type": "stream",
          "name": "stdout",
          "text": [
            "+-----------+--------------------+------------+-------+-----+--------+------+-----------+----+-----+-------------+--------------------+--------------------+--------------------+--------------------+------------+-------+-----+--------+------+-----------+----+--------------------+---------+-------------+\n",
            "|   Video ID|               Title|Published At|Keyword|Likes|Comments| Views|Interaction|Year|Month|Keyword Index|        Features PCA|     Features Normal|            Features|               Title|Published At|Keyword|Likes|Comments| Views|Interaction|Year|             Comment|Sentiment|Likes Comment|\n",
            "+-----------+--------------------+------------+-------+-----+--------+------+-----------+----+-----+-------------+--------------------+--------------------+--------------------+--------------------+------------+-------+-----+--------+------+-----------+----+--------------------+---------+-------------+\n",
            "|wAZZ-UWGVHI|Apple Pay Is Kill...|  2022-08-23|   tech| 3407|     672|135612|     139691|2022|    8|         23.0|[0.5461641657286636]|[2.07229197864298...|[3407.0,135612.0,...|Apple Pay Is Kill...|  2022-08-23|   tech| 3407|     672|135612|     139691|2022|Let's not forget ...|        1|           95|\n",
            "|wAZZ-UWGVHI|Apple Pay Is Kill...|  2022-08-23|   tech| 3407|     672|135612|     139691|2022|    8|         23.0|[0.5461641657286636]|[2.07229197864298...|[3407.0,135612.0,...|Apple Pay Is Kill...|  2022-08-23|   tech| 3407|     672|135612|     139691|2022|Here in NZ 50% of...|        0|           19|\n",
            "|wAZZ-UWGVHI|Apple Pay Is Kill...|  2022-08-23|   tech| 3407|     672|135612|     139691|2022|    8|         23.0|[0.5461641657286636]|[2.07229197864298...|[3407.0,135612.0,...|Apple Pay Is Kill...|  2022-08-23|   tech| 3407|     672|135612|     139691|2022|I will forever ac...|        2|          161|\n",
            "|wAZZ-UWGVHI|Apple Pay Is Kill...|  2022-08-23|   tech| 3407|     672|135612|     139691|2022|    8|         23.0|[0.5461641657286636]|[2.07229197864298...|[3407.0,135612.0,...|Apple Pay Is Kill...|  2022-08-23|   tech| 3407|     672|135612|     139691|2022|Whenever I go to ...|        0|            8|\n",
            "|wAZZ-UWGVHI|Apple Pay Is Kill...|  2022-08-23|   tech| 3407|     672|135612|     139691|2022|    8|         23.0|[0.5461641657286636]|[2.07229197864298...|[3407.0,135612.0,...|Apple Pay Is Kill...|  2022-08-23|   tech| 3407|     672|135612|     139691|2022|Apple Pay is so c...|        2|           34|\n",
            "+-----------+--------------------+------------+-------+-----+--------+------+-----------+----+-----+-------------+--------------------+--------------------+--------------------+--------------------+------------+-------+-----+--------+------+-----------+----+--------------------+---------+-------------+\n",
            "only showing top 5 rows\n",
            "\n"
          ]
        }
      ]
    },
    {
      "cell_type": "code",
      "source": [
        "# Repartition para distribuir os dados entre os workers (bom para joins)\n",
        "df_video_repartition = df_video.repartition(\"Video ID\")\n",
        "df_comments_repartition = df_comments.repartition(\"Video ID\")"
      ],
      "metadata": {
        "id": "Z2uJOtElHUcF"
      },
      "execution_count": 58,
      "outputs": []
    },
    {
      "cell_type": "code",
      "source": [
        "# Criar novas tabelas temporárias com dados reparticionados\n",
        "df_video_repartition.createOrReplaceTempView(\"videos_repartition\")\n",
        "df_comments_repartition.createOrReplaceTempView(\"comments_repartition\")\n",
        "\n",
        "# Realizar join com dados reparticionados\n",
        "join_video_comments_repartition = df_video_repartition.join(df_comments_repartition, on = \"Video ID\")\n",
        "join_video_comments_repartition.show(5)"
      ],
      "metadata": {
        "colab": {
          "base_uri": "https://localhost:8080/"
        },
        "collapsed": true,
        "id": "3wsiYmxpKX6M",
        "outputId": "19369a37-45a5-47b7-989f-5e2e2fa8a6e2"
      },
      "execution_count": 59,
      "outputs": [
        {
          "output_type": "stream",
          "name": "stdout",
          "text": [
            "+-----------+--------------------+------------+-------+------+--------+--------+-----------+----+-----+-------------+--------------------+--------------------+--------------------+--------------------+------------+-------+------+--------+--------+-----------+----+--------------------+---------+-------------+\n",
            "|   Video ID|               Title|Published At|Keyword| Likes|Comments|   Views|Interaction|Year|Month|Keyword Index|        Features PCA|     Features Normal|            Features|               Title|Published At|Keyword| Likes|Comments|   Views|Interaction|Year|             Comment|Sentiment|Likes Comment|\n",
            "+-----------+--------------------+------------+-------+------+--------+--------+-----------+----+-----+-------------+--------------------+--------------------+--------------------+--------------------+------------+-------+------+--------+--------+-----------+----+--------------------+---------+-------------+\n",
            "|115amzVdV44|How To Fix a Wate...|  2020-08-18| how-to|910553|   81975|52061447|   53053975|2020|    8|         19.0|[0.4576022250405602]|[0.05536777436388...|[910553.0,5.20614...|How To Fix a Wate...|  2020-08-18| how-to|910553|   81975|52061447|   53053975|2020|Please make anoth...|        1|        76769|\n",
            "|115amzVdV44|How To Fix a Wate...|  2020-08-18| how-to|910553|   81975|52061447|   53053975|2020|    8|         19.0|[0.4576022250405602]|[0.05536777436388...|[910553.0,5.20614...|How To Fix a Wate...|  2020-08-18| how-to|910553|   81975|52061447|   53053975|2020|I love how his vi...|        0|           48|\n",
            "|115amzVdV44|How To Fix a Wate...|  2020-08-18| how-to|910553|   81975|52061447|   53053975|2020|    8|         19.0|[0.4576022250405602]|[0.05536777436388...|[910553.0,5.20614...|How To Fix a Wate...|  2020-08-18| how-to|910553|   81975|52061447|   53053975|2020|The amount of eff...|        0|            4|\n",
            "|115amzVdV44|How To Fix a Wate...|  2020-08-18| how-to|910553|   81975|52061447|   53053975|2020|    8|         19.0|[0.4576022250405602]|[0.05536777436388...|[910553.0,5.20614...|How To Fix a Wate...|  2020-08-18| how-to|910553|   81975|52061447|   53053975|2020|Thank you! I was ...|        2|            8|\n",
            "|115amzVdV44|How To Fix a Wate...|  2020-08-18| how-to|910553|   81975|52061447|   53053975|2020|    8|         19.0|[0.4576022250405602]|[0.05536777436388...|[910553.0,5.20614...|How To Fix a Wate...|  2020-08-18| how-to|910553|   81975|52061447|   53053975|2020|I’m so glad I wat...|        2|            5|\n",
            "+-----------+--------------------+------------+-------+------+--------+--------+-----------+----+-----+-------------+--------------------+--------------------+--------------------+--------------------+------------+-------+------+--------+--------+-----------+----+--------------------+---------+-------------+\n",
            "only showing top 5 rows\n",
            "\n"
          ]
        }
      ]
    },
    {
      "cell_type": "code",
      "source": [
        "# Reduzir número de partições com coalesce para gravação\n",
        "join_video_comments_repartition = join_video_comments_repartition.coalesce(5)"
      ],
      "metadata": {
        "id": "CJ2SvL-yKqUL"
      },
      "execution_count": 60,
      "outputs": []
    },
    {
      "cell_type": "code",
      "source": [
        "#Otimização com análise de plano de execução\n",
        "join_video_comments.explain()\n",
        "join_video_comments_repartition.explain()"
      ],
      "metadata": {
        "colab": {
          "base_uri": "https://localhost:8080/"
        },
        "id": "CLm-5JrkK73q",
        "outputId": "42180c24-abcf-41fd-e1ce-bdb0d347ba4b"
      },
      "execution_count": 61,
      "outputs": [
        {
          "output_type": "stream",
          "name": "stdout",
          "text": [
            "== Physical Plan ==\n",
            "AdaptiveSparkPlan isFinalPlan=false\n",
            "+- Project [Video ID#1414, Title#1413, Published At#1415, Keyword#1416, Likes#1417, Comments#1418, Views#1419, Interaction#1420, Year#1421, Month#1422, Keyword Index#1423, Features PCA#1424, Features Normal#1425, Features#1426, Title#1442, Published At#1443, Keyword#1444, Likes#1445, Comments#1446, Views#1447, Interaction#1448, Year#1449, Comment#1450, Sentiment#1451, Likes Comment#1452]\n",
            "   +- BroadcastHashJoin [Video ID#1414], [Video ID#1441], Inner, BuildLeft, false\n",
            "      :- BroadcastExchange HashedRelationBroadcastMode(List(input[1, string, false]),false), [plan_id=2389]\n",
            "      :  +- Filter isnotnull(Video ID#1414)\n",
            "      :     +- FileScan parquet [Title#1413,Video ID#1414,Published At#1415,Keyword#1416,Likes#1417,Comments#1418,Views#1419,Interaction#1420,Year#1421,Month#1422,Keyword Index#1423,Features PCA#1424,Features Normal#1425,Features#1426] Batched: true, DataFilters: [isnotnull(Video ID#1414)], Format: Parquet, Location: InMemoryFileIndex(1 paths)[file:/content/videos-preparados.snappy.parquet], PartitionFilters: [], PushedFilters: [IsNotNull(`Video ID`)], ReadSchema: struct<Title:string,Video ID:string,Published At:date,Keyword:string,Likes:int,Comments:int,Views...\n",
            "      +- Filter isnotnull(Video ID#1441)\n",
            "         +- FileScan parquet [Video ID#1441,Title#1442,Published At#1443,Keyword#1444,Likes#1445,Comments#1446,Views#1447,Interaction#1448,Year#1449,Comment#1450,Sentiment#1451,Likes Comment#1452] Batched: true, DataFilters: [isnotnull(Video ID#1441)], Format: Parquet, Location: InMemoryFileIndex(1 paths)[file:/content/videos-comments-tratados.snappy.parquet], PartitionFilters: [], PushedFilters: [IsNotNull(`Video ID`)], ReadSchema: struct<Video ID:string,Title:string,Published At:date,Keyword:string,Likes:int,Comments:int,Views...\n",
            "\n",
            "\n",
            "== Physical Plan ==\n",
            "AdaptiveSparkPlan isFinalPlan=false\n",
            "+- Coalesce 5\n",
            "   +- Project [Video ID#1414, Title#1413, Published At#1415, Keyword#1416, Likes#1417, Comments#1418, Views#1419, Interaction#1420, Year#1421, Month#1422, Keyword Index#1423, Features PCA#1424, Features Normal#1425, Features#1426, Title#1442, Published At#1443, Keyword#1444, Likes#1445, Comments#1446, Views#1447, Interaction#1448, Year#1449, Comment#1450, Sentiment#1451, Likes Comment#1452]\n",
            "      +- BroadcastHashJoin [Video ID#1414], [Video ID#1441], Inner, BuildLeft, false\n",
            "         :- BroadcastExchange HashedRelationBroadcastMode(List(input[1, string, false]),false), [plan_id=2433]\n",
            "         :  +- Exchange hashpartitioning(Video ID#1414, 200), REPARTITION_BY_COL, [plan_id=2428]\n",
            "         :     +- Filter isnotnull(Video ID#1414)\n",
            "         :        +- FileScan parquet [Title#1413,Video ID#1414,Published At#1415,Keyword#1416,Likes#1417,Comments#1418,Views#1419,Interaction#1420,Year#1421,Month#1422,Keyword Index#1423,Features PCA#1424,Features Normal#1425,Features#1426] Batched: true, DataFilters: [isnotnull(Video ID#1414)], Format: Parquet, Location: InMemoryFileIndex(1 paths)[file:/content/videos-preparados.snappy.parquet], PartitionFilters: [], PushedFilters: [IsNotNull(`Video ID`)], ReadSchema: struct<Title:string,Video ID:string,Published At:date,Keyword:string,Likes:int,Comments:int,Views...\n",
            "         +- Exchange hashpartitioning(Video ID#1441, 200), REPARTITION_BY_COL, [plan_id=2429]\n",
            "            +- Filter isnotnull(Video ID#1441)\n",
            "               +- FileScan parquet [Video ID#1441,Title#1442,Published At#1443,Keyword#1444,Likes#1445,Comments#1446,Views#1447,Interaction#1448,Year#1449,Comment#1450,Sentiment#1451,Likes Comment#1452] Batched: true, DataFilters: [isnotnull(Video ID#1441)], Format: Parquet, Location: InMemoryFileIndex(1 paths)[file:/content/videos-comments-tratados.snappy.parquet], PartitionFilters: [], PushedFilters: [IsNotNull(`Video ID`)], ReadSchema: struct<Video ID:string,Title:string,Published At:date,Keyword:string,Likes:int,Comments:int,Views...\n",
            "\n",
            "\n"
          ]
        }
      ]
    },
    {
      "cell_type": "code",
      "source": [
        "# Otimizando a analise com as colunas necessárias\n",
        "df_video_otimizado = df_video.select((\"Video ID\"),(\"Likes\"), (\"Comments\"), (\"Views\"), (\"Interaction\"), (\"Keyword\"))\n",
        "\n",
        "df_video_likes = df_video_otimizado\n",
        "\n",
        "df_video_otimizado.show(5)"
      ],
      "metadata": {
        "colab": {
          "base_uri": "https://localhost:8080/"
        },
        "id": "feD_Qfj6LoWJ",
        "outputId": "0d401caf-9fd7-4142-a00f-6c7f3b917f62"
      },
      "execution_count": 62,
      "outputs": [
        {
          "output_type": "stream",
          "name": "stdout",
          "text": [
            "+-----------+------+--------+--------+-----------+-------+\n",
            "|   Video ID| Likes|Comments|   Views|Interaction|Keyword|\n",
            "+-----------+------+--------+--------+-----------+-------+\n",
            "|--ZI0dSbbNU|378858|   18860|17975269|   18372987|mukbang|\n",
            "|--hxd1CrOqg|  6379|    4853|  808787|     820019|   news|\n",
            "|--ixiTypG8g|  1029|    2347|   97434|     100810|   news|\n",
            "|-64r1hcxtV4| 45628|   17264| 5283664|    5346556|mukbang|\n",
            "|-6IgkG5yZfo| 10959|     525|  844015|     855499|physics|\n",
            "+-----------+------+--------+--------+-----------+-------+\n",
            "only showing top 5 rows\n",
            "\n"
          ]
        }
      ]
    },
    {
      "cell_type": "code",
      "source": [
        "df_video_otimizado = df_video.select((\"Video ID\"),(\"Likes\"), (\"Comments\"), (\"Views\"), (\"Interaction\"), (\"Keyword\"))\n",
        "df_video_otimizado = df_video_otimizado.filter((col(\"Likes\").isNotNull()) & (col(\"Comments\").isNotNull()))\n",
        "\n",
        "df_comments_otimizado = df_comments.select((\"Video ID\"),(\"Likes\"), (\"Comments\"), (\"Views\"), (\"Interaction\"), (\"Keyword\"))\n",
        "df_comments_otimizado = df_comments_otimizado.filter((col(\"Likes\").isNotNull()) & (col(\"Comments\").isNotNull()))\n",
        "\n",
        "df_comments_otimizado.show(5)\n",
        "df_video_otimizado.show(5)"
      ],
      "metadata": {
        "colab": {
          "base_uri": "https://localhost:8080/"
        },
        "id": "Q8A5uXB-PLD4",
        "outputId": "8933f44b-cccc-492f-c4ff-4caac4292b9d"
      },
      "execution_count": 63,
      "outputs": [
        {
          "output_type": "stream",
          "name": "stdout",
          "text": [
            "+-----------+-----+--------+------+-----------+-------+\n",
            "|   Video ID|Likes|Comments| Views|Interaction|Keyword|\n",
            "+-----------+-----+--------+------+-----------+-------+\n",
            "|wAZZ-UWGVHI| 3407|     672|135612|     139691|   tech|\n",
            "|wAZZ-UWGVHI| 3407|     672|135612|     139691|   tech|\n",
            "|wAZZ-UWGVHI| 3407|     672|135612|     139691|   tech|\n",
            "|wAZZ-UWGVHI| 3407|     672|135612|     139691|   tech|\n",
            "|wAZZ-UWGVHI| 3407|     672|135612|     139691|   tech|\n",
            "+-----------+-----+--------+------+-----------+-------+\n",
            "only showing top 5 rows\n",
            "\n",
            "+-----------+------+--------+--------+-----------+-------+\n",
            "|   Video ID| Likes|Comments|   Views|Interaction|Keyword|\n",
            "+-----------+------+--------+--------+-----------+-------+\n",
            "|--ZI0dSbbNU|378858|   18860|17975269|   18372987|mukbang|\n",
            "|--hxd1CrOqg|  6379|    4853|  808787|     820019|   news|\n",
            "|--ixiTypG8g|  1029|    2347|   97434|     100810|   news|\n",
            "|-64r1hcxtV4| 45628|   17264| 5283664|    5346556|mukbang|\n",
            "|-6IgkG5yZfo| 10959|     525|  844015|     855499|physics|\n",
            "+-----------+------+--------+--------+-----------+-------+\n",
            "only showing top 5 rows\n",
            "\n"
          ]
        }
      ]
    },
    {
      "cell_type": "code",
      "source": [
        "# Reparticionar pelos campos de maior uso em joins e buscas\n",
        "df_video_otimizado = df_video_otimizado.repartition(\"Video ID\", \"Keyword\")\n",
        "df_comments_otimizado = df_comments_otimizado.repartition(\"Video ID\", \"Keyword\")"
      ],
      "metadata": {
        "id": "8Er21LwwQY3L"
      },
      "execution_count": 64,
      "outputs": []
    },
    {
      "cell_type": "code",
      "source": [
        "# Verificar plano de execução\n",
        "df_comments_otimizado.explain()\n",
        "df_video_otimizado.explain()"
      ],
      "metadata": {
        "colab": {
          "base_uri": "https://localhost:8080/"
        },
        "id": "MgJpbbX6RVOI",
        "outputId": "966e1a31-3621-450e-d5a9-0a0e850d333b"
      },
      "execution_count": 65,
      "outputs": [
        {
          "output_type": "stream",
          "name": "stdout",
          "text": [
            "== Physical Plan ==\n",
            "AdaptiveSparkPlan isFinalPlan=false\n",
            "+- Exchange hashpartitioning(Video ID#1441, Keyword#1444, 200), REPARTITION_BY_COL, [plan_id=2503]\n",
            "   +- Project [Video ID#1441, Likes#1445, Comments#1446, Views#1447, Interaction#1448, Keyword#1444]\n",
            "      +- Filter (isnotnull(Likes#1445) AND isnotnull(Comments#1446))\n",
            "         +- FileScan parquet [Video ID#1441,Keyword#1444,Likes#1445,Comments#1446,Views#1447,Interaction#1448] Batched: true, DataFilters: [isnotnull(Likes#1445), isnotnull(Comments#1446)], Format: Parquet, Location: InMemoryFileIndex(1 paths)[file:/content/videos-comments-tratados.snappy.parquet], PartitionFilters: [], PushedFilters: [IsNotNull(Likes), IsNotNull(Comments)], ReadSchema: struct<Video ID:string,Keyword:string,Likes:int,Comments:int,Views:int,Interaction:int>\n",
            "\n",
            "\n",
            "== Physical Plan ==\n",
            "AdaptiveSparkPlan isFinalPlan=false\n",
            "+- Exchange hashpartitioning(Video ID#1414, Keyword#1416, 200), REPARTITION_BY_COL, [plan_id=2515]\n",
            "   +- Project [Video ID#1414, Likes#1417, Comments#1418, Views#1419, Interaction#1420, Keyword#1416]\n",
            "      +- Filter (isnotnull(Likes#1417) AND isnotnull(Comments#1418))\n",
            "         +- FileScan parquet [Video ID#1414,Keyword#1416,Likes#1417,Comments#1418,Views#1419,Interaction#1420] Batched: true, DataFilters: [isnotnull(Likes#1417), isnotnull(Comments#1418)], Format: Parquet, Location: InMemoryFileIndex(1 paths)[file:/content/videos-preparados.snappy.parquet], PartitionFilters: [], PushedFilters: [IsNotNull(Likes), IsNotNull(Comments)], ReadSchema: struct<Video ID:string,Keyword:string,Likes:int,Comments:int,Views:int,Interaction:int>\n",
            "\n",
            "\n"
          ]
        }
      ]
    },
    {
      "cell_type": "code",
      "source": [
        "# Fazer um join das tabelas otimizadas\n",
        "join_video_comments_otimizado = df_video_otimizado.join(df_comments_otimizado, on = [\"Video ID\", \"Keyword\", \"Comments\", \"Interaction\", \"Views\", \"Likes\"])\n",
        "join_video_comments_otimizado.show(5)"
      ],
      "metadata": {
        "colab": {
          "base_uri": "https://localhost:8080/"
        },
        "id": "kkjt4HqTSatH",
        "outputId": "1552245a-3a6e-4a96-8987-7b3c07fd011a"
      },
      "execution_count": 66,
      "outputs": [
        {
          "output_type": "stream",
          "name": "stdout",
          "text": [
            "+-----------+-------+--------+-----------+-------+-----+\n",
            "|   Video ID|Keyword|Comments|Interaction|  Views|Likes|\n",
            "+-----------+-------+--------+-----------+-------+-----+\n",
            "|JsOL9GBAugY| sports|      57|    1054392|1051751| 2584|\n",
            "|JsOL9GBAugY| sports|      57|    1054392|1051751| 2584|\n",
            "|JsOL9GBAugY| sports|      57|    1054392|1051751| 2584|\n",
            "|JsOL9GBAugY| sports|      57|    1054392|1051751| 2584|\n",
            "|JsOL9GBAugY| sports|      57|    1054392|1051751| 2584|\n",
            "+-----------+-------+--------+-----------+-------+-----+\n",
            "only showing top 5 rows\n",
            "\n"
          ]
        }
      ]
    },
    {
      "cell_type": "code",
      "source": [
        "# Salvar a tabela otimizada\n",
        "join_video_comments_otimizado.coalesce(5)\n",
        "\n",
        "join_video_comments_otimizado.write.mode(\"overwrite\").option('header', 'true').parquet(\"join-videos-comments-otimizado\")"
      ],
      "metadata": {
        "id": "B8r2OqU-SunW"
      },
      "execution_count": 67,
      "outputs": []
    },
    {
      "cell_type": "code",
      "source": [
        "# Parar execução\n",
        "spark.stop()"
      ],
      "metadata": {
        "id": "OrLX9HxNV7XM"
      },
      "execution_count": 68,
      "outputs": []
    }
  ]
}